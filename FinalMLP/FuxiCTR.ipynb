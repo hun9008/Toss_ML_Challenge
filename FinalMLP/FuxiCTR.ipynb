{
  "nbformat": 4,
  "nbformat_minor": 0,
  "metadata": {
    "colab": {
      "provenance": [],
      "machine_shape": "hm",
      "gpuType": "A100"
    },
    "kernelspec": {
      "name": "python3",
      "display_name": "Python 3"
    },
    "language_info": {
      "name": "python"
    },
    "accelerator": "GPU"
  },
  "cells": [
    {
      "cell_type": "code",
      "execution_count": 1,
      "metadata": {
        "colab": {
          "base_uri": "https://localhost:8080/"
        },
        "id": "8CwETAZxRZs9",
        "outputId": "599de393-4365-4643-c6c7-55dfb6ab470f"
      },
      "outputs": [
        {
          "output_type": "stream",
          "name": "stdout",
          "text": [
            "Cloning into 'FuxiCTR'...\n",
            "remote: Enumerating objects: 3346, done.\u001b[K\n",
            "remote: Counting objects: 100% (937/937), done.\u001b[K\n",
            "remote: Compressing objects: 100% (276/276), done.\u001b[K\n",
            "remote: Total 3346 (delta 787), reused 661 (delta 661), pack-reused 2409 (from 2)\u001b[K\n",
            "Receiving objects: 100% (3346/3346), 2.57 MiB | 35.51 MiB/s, done.\n",
            "Resolving deltas: 100% (2152/2152), done.\n"
          ]
        }
      ],
      "source": [
        "!git clone https://github.com/reczoo/FuxiCTR.git"
      ]
    },
    {
      "cell_type": "code",
      "source": [
        "cd FuxiCTR/"
      ],
      "metadata": {
        "colab": {
          "base_uri": "https://localhost:8080/"
        },
        "id": "I17qIAfNR6nd",
        "outputId": "63a03fe0-5712-499b-e6a9-e47964cf3f46"
      },
      "execution_count": 1,
      "outputs": [
        {
          "output_type": "stream",
          "name": "stdout",
          "text": [
            "/content/FuxiCTR\n"
          ]
        }
      ]
    },
    {
      "cell_type": "code",
      "source": [
        "ls"
      ],
      "metadata": {
        "colab": {
          "base_uri": "https://localhost:8080/"
        },
        "id": "lmqlJXqISA6b",
        "outputId": "782f3a4f-5137-45b3-e6a6-daf9f73911bb"
      },
      "execution_count": 2,
      "outputs": [
        {
          "output_type": "stream",
          "name": "stdout",
          "text": [
            "CHANGELOG.md     \u001b[0m\u001b[01;34mdata\u001b[0m/  \u001b[01;34mexperiment\u001b[0m/        LICENSE     requirements.txt\n",
            "CITATION         \u001b[01;34mdemo\u001b[0m/  \u001b[01;34mfuxictr\u001b[0m/           \u001b[01;34mmodel_zoo\u001b[0m/  setup.py\n",
            "CONTRIBUTORS.md  \u001b[01;34mdocs\u001b[0m/  \u001b[01;34mfuxictr.egg-info\u001b[0m/  README.md   \u001b[01;34mtests\u001b[0m/\n"
          ]
        }
      ]
    },
    {
      "cell_type": "code",
      "source": [
        "pip install -r requirements.txt"
      ],
      "metadata": {
        "colab": {
          "base_uri": "https://localhost:8080/"
        },
        "id": "hVzA8Fr-SFmD",
        "outputId": "e6edcfa1-b8a7-486e-98c5-1034c9f29401"
      },
      "execution_count": 3,
      "outputs": [
        {
          "output_type": "stream",
          "name": "stdout",
          "text": [
            "Requirement already satisfied: keras_preprocessing in /usr/local/lib/python3.12/dist-packages (from -r requirements.txt (line 1)) (1.1.2)\n",
            "Requirement already satisfied: pandas in /usr/local/lib/python3.12/dist-packages (from -r requirements.txt (line 2)) (2.2.2)\n",
            "Requirement already satisfied: PyYAML in /usr/local/lib/python3.12/dist-packages (from -r requirements.txt (line 3)) (6.0.2)\n",
            "Requirement already satisfied: scikit-learn in /usr/local/lib/python3.12/dist-packages (from -r requirements.txt (line 4)) (1.6.1)\n",
            "Requirement already satisfied: numpy in /usr/local/lib/python3.12/dist-packages (from -r requirements.txt (line 5)) (1.26.4)\n",
            "Requirement already satisfied: h5py in /usr/local/lib/python3.12/dist-packages (from -r requirements.txt (line 6)) (3.14.0)\n",
            "Requirement already satisfied: tqdm in /usr/local/lib/python3.12/dist-packages (from -r requirements.txt (line 7)) (4.67.1)\n",
            "Requirement already satisfied: pyarrow in /usr/local/lib/python3.12/dist-packages (from -r requirements.txt (line 8)) (18.1.0)\n",
            "Requirement already satisfied: polars<=1.0.0 in /usr/local/lib/python3.12/dist-packages (from -r requirements.txt (line 9)) (1.0.0)\n",
            "Requirement already satisfied: six>=1.9.0 in /usr/local/lib/python3.12/dist-packages (from keras_preprocessing->-r requirements.txt (line 1)) (1.17.0)\n",
            "Requirement already satisfied: python-dateutil>=2.8.2 in /usr/local/lib/python3.12/dist-packages (from pandas->-r requirements.txt (line 2)) (2.9.0.post0)\n",
            "Requirement already satisfied: pytz>=2020.1 in /usr/local/lib/python3.12/dist-packages (from pandas->-r requirements.txt (line 2)) (2025.2)\n",
            "Requirement already satisfied: tzdata>=2022.7 in /usr/local/lib/python3.12/dist-packages (from pandas->-r requirements.txt (line 2)) (2025.2)\n",
            "Requirement already satisfied: scipy>=1.6.0 in /usr/local/lib/python3.12/dist-packages (from scikit-learn->-r requirements.txt (line 4)) (1.16.1)\n",
            "Requirement already satisfied: joblib>=1.2.0 in /usr/local/lib/python3.12/dist-packages (from scikit-learn->-r requirements.txt (line 4)) (1.5.2)\n",
            "Requirement already satisfied: threadpoolctl>=3.1.0 in /usr/local/lib/python3.12/dist-packages (from scikit-learn->-r requirements.txt (line 4)) (3.6.0)\n"
          ]
        }
      ]
    },
    {
      "cell_type": "code",
      "source": [
        "cd demo"
      ],
      "metadata": {
        "colab": {
          "base_uri": "https://localhost:8080/"
        },
        "id": "WiBG64PzSM03",
        "outputId": "4393eeea-1189-4846-9696-05c5858d3fe2"
      },
      "execution_count": 4,
      "outputs": [
        {
          "output_type": "stream",
          "name": "stdout",
          "text": [
            "/content/FuxiCTR/demo\n"
          ]
        }
      ]
    },
    {
      "cell_type": "code",
      "source": [
        "ls"
      ],
      "metadata": {
        "colab": {
          "base_uri": "https://localhost:8080/"
        },
        "id": "Mph4U2cRSUUf",
        "outputId": "4fc83f61-8797-4f91-f053-6e6167138064"
      },
      "execution_count": 5,
      "outputs": [
        {
          "output_type": "stream",
          "name": "stdout",
          "text": [
            "\u001b[0m\u001b[01;34mcheckpoints\u001b[0m/\n",
            "\u001b[01;34mconfig\u001b[0m/\n",
            "example1_build_dataset_to_parquet.py\n",
            "example2_DeepFM_with_parquet_input.py\n",
            "example3_DeepFM_with_npz_input.py\n",
            "example4_DeepFM_with_csv_input.py\n",
            "example5_DeepFM_with_pretrained_emb_as_weights.py\n",
            "example6_DIN_with_sequence_feature.py\n",
            "example7_DeepFM_with_customized_preprocess.py\n",
            "example8_DCN_with_emb_feature_as_input.py\n"
          ]
        }
      ]
    },
    {
      "cell_type": "code",
      "source": [
        "!python example2_DeepFM_with_parquet_input.py"
      ],
      "metadata": {
        "colab": {
          "base_uri": "https://localhost:8080/"
        },
        "id": "VUmvZfbeSVK2",
        "outputId": "90c992df-5172-48ac-c71c-021a7aa2a32b"
      },
      "execution_count": 6,
      "outputs": [
        {
          "output_type": "stream",
          "name": "stdout",
          "text": [
            "2025-09-18 10:14:49,497 P4339 INFO FuxiCTR version: 2.3.9\n",
            "2025-09-18 10:14:49,498 P4339 INFO Params: {\n",
            "    \"batch_norm\": \"False\",\n",
            "    \"batch_size\": \"128\",\n",
            "    \"data_format\": \"parquet\",\n",
            "    \"data_root\": \"../data/\",\n",
            "    \"dataset_id\": \"tiny_parquet\",\n",
            "    \"debug_mode\": \"False\",\n",
            "    \"early_stop_patience\": \"2\",\n",
            "    \"embedding_dim\": \"4\",\n",
            "    \"embedding_regularizer\": \"1e-08\",\n",
            "    \"epochs\": \"1\",\n",
            "    \"eval_steps\": \"None\",\n",
            "    \"feature_config\": \"None\",\n",
            "    \"feature_specs\": \"None\",\n",
            "    \"group_id\": \"None\",\n",
            "    \"hidden_activations\": \"relu\",\n",
            "    \"hidden_units\": \"[64, 32]\",\n",
            "    \"learning_rate\": \"0.001\",\n",
            "    \"loss\": \"binary_crossentropy\",\n",
            "    \"metrics\": \"['logloss', 'AUC']\",\n",
            "    \"model\": \"DeepFM\",\n",
            "    \"model_id\": \"DeepFM_test_parquet\",\n",
            "    \"model_root\": \"./checkpoints/\",\n",
            "    \"monitor\": \"AUC\",\n",
            "    \"monitor_mode\": \"max\",\n",
            "    \"net_dropout\": \"0\",\n",
            "    \"net_regularizer\": \"0\",\n",
            "    \"num_workers\": \"3\",\n",
            "    \"optimizer\": \"adam\",\n",
            "    \"pickle_feature_encoder\": \"True\",\n",
            "    \"save_best_only\": \"True\",\n",
            "    \"seed\": \"2023\",\n",
            "    \"shuffle\": \"True\",\n",
            "    \"task\": \"binary_classification\",\n",
            "    \"test_data\": \"../data/tiny_parquet/test.parquet\",\n",
            "    \"train_data\": \"../data/tiny_parquet/train.parquet\",\n",
            "    \"use_features\": \"None\",\n",
            "    \"valid_data\": \"../data/tiny_parquet/valid.parquet\",\n",
            "    \"verbose\": \"1\"\n",
            "}\n",
            "2025-09-18 10:14:49,498 P4339 INFO Load feature_map from json: ../data/tiny_parquet/feature_map.json\n",
            "2025-09-18 10:14:49,499 P4339 INFO Set column index...\n",
            "2025-09-18 10:14:49,499 P4339 INFO Feature specs: {\n",
            "    \"adgroup_id\": \"{'source': '', 'type': 'categorical', 'padding_idx': 0, 'vocab_size': 96}\",\n",
            "    \"age_level\": \"{'source': '', 'type': 'categorical', 'padding_idx': 0, 'vocab_size': 7}\",\n",
            "    \"brand\": \"{'source': '', 'type': 'categorical', 'padding_idx': 0, 'vocab_size': 67}\",\n",
            "    \"campaign_id\": \"{'source': '', 'type': 'categorical', 'padding_idx': 0, 'vocab_size': 99}\",\n",
            "    \"cate_id\": \"{'source': '', 'type': 'categorical', 'padding_idx': 0, 'vocab_size': 49}\",\n",
            "    \"cms_group_id\": \"{'source': '', 'type': 'categorical', 'padding_idx': 0, 'vocab_size': 11}\",\n",
            "    \"cms_segid\": \"{'source': '', 'type': 'categorical', 'padding_idx': 0, 'vocab_size': 11}\",\n",
            "    \"customer\": \"{'source': '', 'type': 'categorical', 'padding_idx': 0, 'vocab_size': 98}\",\n",
            "    \"final_gender_code\": \"{'source': '', 'type': 'categorical', 'padding_idx': 0, 'vocab_size': 4}\",\n",
            "    \"occupation\": \"{'source': '', 'type': 'categorical', 'padding_idx': 0, 'vocab_size': 4}\",\n",
            "    \"pid\": \"{'source': '', 'type': 'categorical', 'padding_idx': 0, 'vocab_size': 4}\",\n",
            "    \"pvalue_level\": \"{'source': '', 'type': 'categorical', 'padding_idx': 0, 'vocab_size': 4}\",\n",
            "    \"shopping_level\": \"{'source': '', 'type': 'categorical', 'padding_idx': 0, 'vocab_size': 5}\",\n",
            "    \"userid\": \"{'source': '', 'type': 'categorical', 'padding_idx': 0, 'vocab_size': 26}\"\n",
            "}\n",
            "2025-09-18 10:14:49,499 P4339 INFO Loading datasets...\n",
            "2025-09-18 10:14:49,521 P4339 INFO Train samples: total/100, blocks/1\n",
            "2025-09-18 10:14:49,524 P4339 INFO Validation samples: total/100, blocks/1\n",
            "2025-09-18 10:14:49,524 P4339 INFO Loading train and validation data done.\n",
            "2025-09-18 10:14:50,496 P4339 INFO Start training: 1 batches/epoch\n",
            "2025-09-18 10:14:50,496 P4339 INFO ************ Epoch=1 start ************\n",
            "  0% 0/1 [00:00<?, ?it/s]2025-09-18 10:14:50,673 P4339 INFO Train loss: 0.693236\n",
            "2025-09-18 10:14:50,674 P4339 INFO Evaluation @epoch 1 - batch 1: \n",
            "\n",
            "100% 1/1 [00:00<00:00, 26.84it/s]\n",
            "2025-09-18 10:14:50,723 P4339 INFO [Metrics] AUC: 0.997396\n",
            "2025-09-18 10:14:50,723 P4339 INFO Save best model: monitor(max)=0.997396\n",
            "100% 1/1 [00:00<00:00,  4.08it/s]\n",
            "2025-09-18 10:14:50,743 P4339 INFO ************ Epoch=1 end ************\n",
            "2025-09-18 10:14:50,743 P4339 INFO Training finished.\n",
            "2025-09-18 10:14:50,743 P4339 INFO Load best model: /content/FuxiCTR/demo/checkpoints/tiny_parquet/DeepFM_test_parquet.model\n",
            "2025-09-18 10:14:50,749 P4339 INFO ***** Validation evaluation *****\n",
            "100% 1/1 [00:00<00:00, 30.95it/s]\n",
            "Traceback (most recent call last):\n",
            "  File \"/content/FuxiCTR/demo/example2_DeepFM_with_parquet_input.py\", line 62, in <module>\n",
            "    model.evaluate(valid_gen)\n",
            "  File \"/content/FuxiCTR/fuxictr/pytorch/models/rank_model.py\", line 247, in evaluate\n",
            "    val_logs = self.evaluate_metrics(y_true, y_pred, self.validation_metrics, group_id)\n",
            "               ^^^^^^^^^^^^^^^^^^^^^^^^^^^^^^^^^^^^^^^^^^^^^^^^^^^^^^^^^^^^^^^^^^^^^^^^\n",
            "  File \"/content/FuxiCTR/fuxictr/pytorch/models/rank_model.py\", line 264, in evaluate_metrics\n",
            "    return evaluate_metrics(y_true, y_pred, metrics, group_id)\n",
            "           ^^^^^^^^^^^^^^^^^^^^^^^^^^^^^^^^^^^^^^^^^^^^^^^^^^^\n",
            "  File \"/content/FuxiCTR/fuxictr/metrics.py\", line 31, in evaluate_metrics\n",
            "    return_dict[metric] = log_loss(y_true, y_pred, eps=1e-7)\n",
            "                          ^^^^^^^^^^^^^^^^^^^^^^^^^^^^^^^^^^\n",
            "  File \"/usr/local/lib/python3.12/dist-packages/sklearn/utils/_param_validation.py\", line 194, in wrapper\n",
            "    params = func_sig.bind(*args, **kwargs)\n",
            "             ^^^^^^^^^^^^^^^^^^^^^^^^^^^^^^\n",
            "  File \"/usr/lib/python3.12/inspect.py\", line 3280, in bind\n",
            "    return self._bind(args, kwargs)\n",
            "           ^^^^^^^^^^^^^^^^^^^^^^^^\n",
            "  File \"/usr/lib/python3.12/inspect.py\", line 3269, in _bind\n",
            "    raise TypeError(\n",
            "TypeError: got an unexpected keyword argument 'eps'\n"
          ]
        }
      ]
    },
    {
      "cell_type": "code",
      "source": [
        "!python example1_build_dataset_to_parquet.py\n"
      ],
      "metadata": {
        "colab": {
          "base_uri": "https://localhost:8080/"
        },
        "id": "BTIq1bzsSXk2",
        "outputId": "8aa5c699-ba68-40bc-ef9b-07ed0ad8a2f2"
      },
      "execution_count": 7,
      "outputs": [
        {
          "output_type": "stream",
          "name": "stdout",
          "text": [
            "2025-09-18 10:14:53,048 P4430 INFO FuxiCTR version: 2.3.9\n",
            "2025-09-18 10:14:53,048 P4430 INFO Params: {\n",
            "    \"data_format\": \"csv\",\n",
            "    \"data_root\": \"../data/\",\n",
            "    \"dataset_id\": \"tiny_example1\",\n",
            "    \"feature_cols\": \"[{'name': ['userid', 'adgroup_id', 'pid', 'cate_id', 'campaign_id', 'customer', 'brand', 'cms_segid', 'cms_group_id', 'final_gender_code', 'age_level', 'pvalue_level', 'shopping_level', 'occupation'], 'active': True, 'dtype': 'str', 'type': 'categorical'}]\",\n",
            "    \"label_col\": \"{'name': 'clk', 'dtype': 'float'}\",\n",
            "    \"min_categr_count\": \"1\",\n",
            "    \"test_data\": \"../data/tiny_csv/test_sample.csv\",\n",
            "    \"train_data\": \"../data/tiny_csv/train_sample.csv\",\n",
            "    \"valid_data\": \"../data/tiny_csv/valid_sample.csv\"\n",
            "}\n",
            "2025-09-18 10:14:53,048 P4430 INFO Set up feature processor...\n",
            "2025-09-18 10:14:53,049 P4430 WARNING Skip rebuilding ../data/tiny_example1/feature_map.json. Please delete it manually if rebuilding is required.\n"
          ]
        }
      ]
    },
    {
      "cell_type": "code",
      "source": [
        "cd .."
      ],
      "metadata": {
        "colab": {
          "base_uri": "https://localhost:8080/"
        },
        "id": "IbnY-abtS2b-",
        "outputId": "b7396ca9-c178-4dc9-ee3c-a1c751889655"
      },
      "execution_count": 8,
      "outputs": [
        {
          "output_type": "stream",
          "name": "stdout",
          "text": [
            "/content/FuxiCTR\n"
          ]
        }
      ]
    },
    {
      "cell_type": "code",
      "source": [
        "cd model_zoo/FinalMLP/"
      ],
      "metadata": {
        "colab": {
          "base_uri": "https://localhost:8080/"
        },
        "id": "3mIySrMuTJUP",
        "outputId": "b5a6ee39-5f3c-4bb4-c6d4-797c1e41548b"
      },
      "execution_count": 9,
      "outputs": [
        {
          "output_type": "stream",
          "name": "stdout",
          "text": [
            "/content/FuxiCTR/model_zoo/FinalMLP\n"
          ]
        }
      ]
    },
    {
      "cell_type": "code",
      "source": [
        "ls"
      ],
      "metadata": {
        "colab": {
          "base_uri": "https://localhost:8080/"
        },
        "id": "P1FyEYpNTaLT",
        "outputId": "dd0a837e-e8d4-46b0-dd67-91caee3ccfbe"
      },
      "execution_count": 10,
      "outputs": [
        {
          "output_type": "stream",
          "name": "stdout",
          "text": [
            "\u001b[0m\u001b[01;34mcheckpoints\u001b[0m/  fuxictr_version.py  README.md     \u001b[01;34msrc\u001b[0m/\n",
            "\u001b[01;34mconfig\u001b[0m/       \u001b[01;34m__pycache__\u001b[0m/        run_expid.py\n"
          ]
        }
      ]
    },
    {
      "cell_type": "code",
      "source": [
        "!python run_expid.py --expid FinalMLP_test --gpu 0"
      ],
      "metadata": {
        "colab": {
          "base_uri": "https://localhost:8080/"
        },
        "id": "TcKjusDeTagX",
        "outputId": "d3bbd0e7-12a5-43a0-9d8c-69ee43aed802"
      },
      "execution_count": 13,
      "outputs": [
        {
          "output_type": "stream",
          "name": "stdout",
          "text": [
            "2025-09-18 10:16:16,507 P4947 INFO FuxiCTR version: 2.3.9\n",
            "2025-09-18 10:16:16,507 P4947 INFO Params: {\n",
            "    \"batch_size\": \"128\",\n",
            "    \"data_format\": \"parquet\",\n",
            "    \"data_root\": \"../../data/\",\n",
            "    \"dataset_id\": \"tiny_parquet\",\n",
            "    \"debug_mode\": \"False\",\n",
            "    \"early_stop_patience\": \"2\",\n",
            "    \"embedding_dim\": \"4\",\n",
            "    \"embedding_regularizer\": \"0\",\n",
            "    \"epochs\": \"1\",\n",
            "    \"eval_steps\": \"None\",\n",
            "    \"feature_config\": \"None\",\n",
            "    \"feature_specs\": \"None\",\n",
            "    \"fs1_context\": \"['userid']\",\n",
            "    \"fs2_context\": \"['adgroup_id', 'cate_id']\",\n",
            "    \"fs_hidden_units\": \"[64, 64]\",\n",
            "    \"gpu\": \"0\",\n",
            "    \"group_id\": \"None\",\n",
            "    \"learning_rate\": \"0.001\",\n",
            "    \"loss\": \"binary_crossentropy\",\n",
            "    \"metrics\": \"['logloss', 'AUC']\",\n",
            "    \"mlp1_batch_norm\": \"False\",\n",
            "    \"mlp1_dropout\": \"0\",\n",
            "    \"mlp1_hidden_activations\": \"relu\",\n",
            "    \"mlp1_hidden_units\": \"[64, 32]\",\n",
            "    \"mlp2_batch_norm\": \"False\",\n",
            "    \"mlp2_dropout\": \"0\",\n",
            "    \"mlp2_hidden_activations\": \"relu\",\n",
            "    \"mlp2_hidden_units\": \"[64, 64, 64]\",\n",
            "    \"model\": \"FinalMLP\",\n",
            "    \"model_id\": \"FinalMLP_test\",\n",
            "    \"model_root\": \"./checkpoints/\",\n",
            "    \"monitor\": \"AUC\",\n",
            "    \"monitor_mode\": \"max\",\n",
            "    \"net_regularizer\": \"0\",\n",
            "    \"num_heads\": \"2\",\n",
            "    \"num_workers\": \"3\",\n",
            "    \"optimizer\": \"adam\",\n",
            "    \"pickle_feature_encoder\": \"True\",\n",
            "    \"save_best_only\": \"True\",\n",
            "    \"seed\": \"2019\",\n",
            "    \"shuffle\": \"True\",\n",
            "    \"task\": \"binary_classification\",\n",
            "    \"test_data\": \"../../data/tiny_parquet/test.parquet\",\n",
            "    \"train_data\": \"../../data/tiny_parquet/train.parquet\",\n",
            "    \"use_features\": \"None\",\n",
            "    \"use_fs\": \"True\",\n",
            "    \"valid_data\": \"../../data/tiny_parquet/valid.parquet\",\n",
            "    \"verbose\": \"1\"\n",
            "}\n",
            "2025-09-18 10:16:16,508 P4947 INFO Load feature_map from json: ../../data/tiny_parquet/feature_map.json\n",
            "2025-09-18 10:16:16,508 P4947 INFO Set column index...\n",
            "2025-09-18 10:16:16,508 P4947 INFO Feature specs: {\n",
            "    \"adgroup_id\": \"{'source': '', 'type': 'categorical', 'padding_idx': 0, 'vocab_size': 96}\",\n",
            "    \"age_level\": \"{'source': '', 'type': 'categorical', 'padding_idx': 0, 'vocab_size': 7}\",\n",
            "    \"brand\": \"{'source': '', 'type': 'categorical', 'padding_idx': 0, 'vocab_size': 67}\",\n",
            "    \"campaign_id\": \"{'source': '', 'type': 'categorical', 'padding_idx': 0, 'vocab_size': 99}\",\n",
            "    \"cate_id\": \"{'source': '', 'type': 'categorical', 'padding_idx': 0, 'vocab_size': 49}\",\n",
            "    \"cms_group_id\": \"{'source': '', 'type': 'categorical', 'padding_idx': 0, 'vocab_size': 11}\",\n",
            "    \"cms_segid\": \"{'source': '', 'type': 'categorical', 'padding_idx': 0, 'vocab_size': 11}\",\n",
            "    \"customer\": \"{'source': '', 'type': 'categorical', 'padding_idx': 0, 'vocab_size': 98}\",\n",
            "    \"final_gender_code\": \"{'source': '', 'type': 'categorical', 'padding_idx': 0, 'vocab_size': 4}\",\n",
            "    \"occupation\": \"{'source': '', 'type': 'categorical', 'padding_idx': 0, 'vocab_size': 4}\",\n",
            "    \"pid\": \"{'source': '', 'type': 'categorical', 'padding_idx': 0, 'vocab_size': 4}\",\n",
            "    \"pvalue_level\": \"{'source': '', 'type': 'categorical', 'padding_idx': 0, 'vocab_size': 4}\",\n",
            "    \"shopping_level\": \"{'source': '', 'type': 'categorical', 'padding_idx': 0, 'vocab_size': 5}\",\n",
            "    \"userid\": \"{'source': '', 'type': 'categorical', 'padding_idx': 0, 'vocab_size': 26}\"\n",
            "}\n",
            "2025-09-18 10:16:17,655 P4947 INFO Total number of parameters: 37938.\n",
            "2025-09-18 10:16:17,655 P4947 INFO Loading datasets...\n",
            "2025-09-18 10:16:17,680 P4947 INFO Train samples: total/100, blocks/1\n",
            "2025-09-18 10:16:17,683 P4947 INFO Validation samples: total/100, blocks/1\n",
            "2025-09-18 10:16:17,683 P4947 INFO Loading train and validation data done.\n",
            "2025-09-18 10:16:17,683 P4947 INFO Start training: 1 batches/epoch\n",
            "2025-09-18 10:16:17,683 P4947 INFO ************ Epoch=1 start ************\n",
            "  0% 0/1 [00:00<?, ?it/s]2025-09-18 10:16:18,052 P4947 INFO Train loss: 0.693162\n",
            "2025-09-18 10:16:18,053 P4947 INFO Evaluation @epoch 1 - batch 1: \n",
            "\n",
            "100% 1/1 [00:00<00:00, 13.35it/s]\n",
            "2025-09-18 10:16:18,135 P4947 INFO [Metrics] AUC: 0.989583\n",
            "2025-09-18 10:16:18,135 P4947 INFO Save best model: monitor(max)=0.989583\n",
            "100% 1/1 [00:00<00:00,  2.09it/s]\n",
            "2025-09-18 10:16:18,163 P4947 INFO ************ Epoch=1 end ************\n",
            "2025-09-18 10:16:18,163 P4947 INFO Training finished.\n",
            "2025-09-18 10:16:18,163 P4947 INFO Load best model: /content/FuxiCTR/model_zoo/FinalMLP/checkpoints/tiny_parquet/FinalMLP_test.model\n",
            "2025-09-18 10:16:18,173 P4947 INFO ****** Validation evaluation ******\n",
            "100% 1/1 [00:00<00:00, 13.89it/s]\n",
            "/usr/local/lib/python3.12/dist-packages/sklearn/metrics/_classification.py:2851: FutureWarning: Setting the eps parameter is deprecated and will be removed in 1.5. Instead eps will always havea default value of `np.finfo(y_pred.dtype).eps`.\n",
            "  warnings.warn(\n",
            "2025-09-18 10:16:18,251 P4947 INFO [Metrics] logloss: 0.685673 - AUC: 0.989583\n",
            "2025-09-18 10:16:18,419 P4947 INFO ******** Test evaluation ********\n",
            "2025-09-18 10:16:18,419 P4947 INFO Loading datasets...\n",
            "2025-09-18 10:16:18,423 P4947 INFO Test samples: total/100, blocks/1\n",
            "2025-09-18 10:16:18,424 P4947 INFO Loading test data done.\n",
            "100% 1/1 [00:00<00:00, 14.23it/s]\n",
            "/usr/local/lib/python3.12/dist-packages/sklearn/metrics/_classification.py:2851: FutureWarning: Setting the eps parameter is deprecated and will be removed in 1.5. Instead eps will always havea default value of `np.finfo(y_pred.dtype).eps`.\n",
            "  warnings.warn(\n",
            "2025-09-18 10:16:18,499 P4947 INFO [Metrics] logloss: 0.685673 - AUC: 0.989583\n"
          ]
        }
      ]
    },
    {
      "cell_type": "code",
      "source": [
        "cd .."
      ],
      "metadata": {
        "colab": {
          "base_uri": "https://localhost:8080/"
        },
        "id": "TZyJS7P_Tc40",
        "outputId": "3098826c-0063-4459-9530-0cc2ffe38708"
      },
      "execution_count": 19,
      "outputs": [
        {
          "output_type": "stream",
          "name": "stdout",
          "text": [
            "/content/FuxiCTR/model_zoo\n"
          ]
        }
      ]
    },
    {
      "cell_type": "code",
      "source": [
        "cd .."
      ],
      "metadata": {
        "colab": {
          "base_uri": "https://localhost:8080/"
        },
        "id": "IgicWQHVT155",
        "outputId": "40856665-bd9d-4221-be9c-856866147a49"
      },
      "execution_count": 20,
      "outputs": [
        {
          "output_type": "stream",
          "name": "stdout",
          "text": [
            "/content/FuxiCTR\n"
          ]
        }
      ]
    },
    {
      "cell_type": "code",
      "source": [
        "pip install -e ."
      ],
      "metadata": {
        "colab": {
          "base_uri": "https://localhost:8080/"
        },
        "id": "vcf748J7T2sy",
        "outputId": "8f8bb2d8-66fb-4048-acaa-09e0063dee35"
      },
      "execution_count": 21,
      "outputs": [
        {
          "output_type": "stream",
          "name": "stdout",
          "text": [
            "Obtaining file:///content/FuxiCTR\n",
            "  Preparing metadata (setup.py) ... \u001b[?25l\u001b[?25hdone\n",
            "Requirement already satisfied: keras_preprocessing in /usr/local/lib/python3.12/dist-packages (from fuxictr==2.3.9) (1.1.2)\n",
            "Requirement already satisfied: pandas in /usr/local/lib/python3.12/dist-packages (from fuxictr==2.3.9) (2.2.2)\n",
            "Requirement already satisfied: PyYAML>=5.1 in /usr/local/lib/python3.12/dist-packages (from fuxictr==2.3.9) (6.0.2)\n",
            "Requirement already satisfied: scikit-learn in /usr/local/lib/python3.12/dist-packages (from fuxictr==2.3.9) (1.6.1)\n",
            "Requirement already satisfied: numpy in /usr/local/lib/python3.12/dist-packages (from fuxictr==2.3.9) (2.0.2)\n",
            "Requirement already satisfied: h5py in /usr/local/lib/python3.12/dist-packages (from fuxictr==2.3.9) (3.14.0)\n",
            "Requirement already satisfied: tqdm in /usr/local/lib/python3.12/dist-packages (from fuxictr==2.3.9) (4.67.1)\n",
            "Requirement already satisfied: pyarrow in /usr/local/lib/python3.12/dist-packages (from fuxictr==2.3.9) (18.1.0)\n",
            "Requirement already satisfied: polars in /usr/local/lib/python3.12/dist-packages (from fuxictr==2.3.9) (1.0.0)\n",
            "Requirement already satisfied: six>=1.9.0 in /usr/local/lib/python3.12/dist-packages (from keras_preprocessing->fuxictr==2.3.9) (1.17.0)\n",
            "Requirement already satisfied: python-dateutil>=2.8.2 in /usr/local/lib/python3.12/dist-packages (from pandas->fuxictr==2.3.9) (2.9.0.post0)\n",
            "Requirement already satisfied: pytz>=2020.1 in /usr/local/lib/python3.12/dist-packages (from pandas->fuxictr==2.3.9) (2025.2)\n",
            "Requirement already satisfied: tzdata>=2022.7 in /usr/local/lib/python3.12/dist-packages (from pandas->fuxictr==2.3.9) (2025.2)\n",
            "Requirement already satisfied: scipy>=1.6.0 in /usr/local/lib/python3.12/dist-packages (from scikit-learn->fuxictr==2.3.9) (1.16.1)\n",
            "Requirement already satisfied: joblib>=1.2.0 in /usr/local/lib/python3.12/dist-packages (from scikit-learn->fuxictr==2.3.9) (1.5.2)\n",
            "Requirement already satisfied: threadpoolctl>=3.1.0 in /usr/local/lib/python3.12/dist-packages (from scikit-learn->fuxictr==2.3.9) (3.6.0)\n",
            "Installing collected packages: fuxictr\n",
            "  Running setup.py develop for fuxictr\n",
            "Successfully installed fuxictr-2.3.9\n"
          ]
        }
      ]
    },
    {
      "cell_type": "code",
      "source": [
        "pip install \"numpy<2.0\" \"scikit-learn<1.4\""
      ],
      "metadata": {
        "colab": {
          "base_uri": "https://localhost:8080/"
        },
        "id": "lOPV8lsGUUBy",
        "outputId": "984dfaac-c8a7-4ce4-9a45-34f67f6ace70"
      },
      "execution_count": 12,
      "outputs": [
        {
          "output_type": "stream",
          "name": "stdout",
          "text": [
            "Requirement already satisfied: numpy<2.0 in /usr/local/lib/python3.12/dist-packages (1.26.4)\n",
            "Collecting scikit-learn<1.4\n",
            "  Downloading scikit_learn-1.3.2-cp312-cp312-manylinux_2_17_x86_64.manylinux2014_x86_64.whl.metadata (11 kB)\n",
            "Requirement already satisfied: scipy>=1.5.0 in /usr/local/lib/python3.12/dist-packages (from scikit-learn<1.4) (1.16.1)\n",
            "Requirement already satisfied: joblib>=1.1.1 in /usr/local/lib/python3.12/dist-packages (from scikit-learn<1.4) (1.5.2)\n",
            "Requirement already satisfied: threadpoolctl>=2.0.0 in /usr/local/lib/python3.12/dist-packages (from scikit-learn<1.4) (3.6.0)\n",
            "Downloading scikit_learn-1.3.2-cp312-cp312-manylinux_2_17_x86_64.manylinux2014_x86_64.whl (10.8 MB)\n",
            "\u001b[2K   \u001b[90m━━━━━━━━━━━━━━━━━━━━━━━━━━━━━━━━━━━━━━━━\u001b[0m \u001b[32m10.8/10.8 MB\u001b[0m \u001b[31m32.6 MB/s\u001b[0m eta \u001b[36m0:00:00\u001b[0m\n",
            "\u001b[?25hInstalling collected packages: scikit-learn\n",
            "  Attempting uninstall: scikit-learn\n",
            "    Found existing installation: scikit-learn 1.6.1\n",
            "    Uninstalling scikit-learn-1.6.1:\n",
            "      Successfully uninstalled scikit-learn-1.6.1\n",
            "\u001b[31mERROR: pip's dependency resolver does not currently take into account all the packages that are installed. This behaviour is the source of the following dependency conflicts.\n",
            "cuml-cu12 25.6.0 requires scikit-learn>=1.5, but you have scikit-learn 1.3.2 which is incompatible.\n",
            "umap-learn 0.5.9.post2 requires scikit-learn>=1.6, but you have scikit-learn 1.3.2 which is incompatible.\n",
            "imbalanced-learn 0.14.0 requires scikit-learn<2,>=1.4.2, but you have scikit-learn 1.3.2 which is incompatible.\u001b[0m\u001b[31m\n",
            "\u001b[0mSuccessfully installed scikit-learn-1.3.2\n"
          ]
        }
      ]
    },
    {
      "cell_type": "code",
      "source": [],
      "metadata": {
        "id": "X8nOeG5-UuCP"
      },
      "execution_count": null,
      "outputs": []
    }
  ]
}